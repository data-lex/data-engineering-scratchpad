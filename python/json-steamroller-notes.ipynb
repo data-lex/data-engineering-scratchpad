{
 "cells": [
  {
   "cell_type": "code",
   "execution_count": 1,
   "metadata": {},
   "outputs": [],
   "source": [
    "from cytoolz import filter, map, partial, reduce\n",
    "from cytoolz.dicttoolz import assoc,dissoc\n",
    "from cytoolz.functoolz import thread_first\n",
    "from cytoolz.itertoolz import join, mapcat\n",
    "import json\n",
    "import re"
   ]
  },
  {
   "cell_type": "code",
   "execution_count": 14,
   "metadata": {},
   "outputs": [],
   "source": [
    "def times_two(number):\n",
    "    return number * 2"
   ]
  },
  {
   "cell_type": "code",
   "execution_count": 15,
   "metadata": {},
   "outputs": [],
   "source": [
    "def plus_one(number):\n",
    "    return times_two(number)"
   ]
  },
  {
   "cell_type": "code",
   "execution_count": 16,
   "metadata": {},
   "outputs": [],
   "source": [
    "number_list = [1, 2, 3, 4]"
   ]
  },
  {
   "cell_type": "code",
   "execution_count": 18,
   "metadata": {},
   "outputs": [
    {
     "data": {
      "text/plain": [
       "<map at 0x7f9036fdeef0>"
      ]
     },
     "execution_count": 18,
     "metadata": {},
     "output_type": "execute_result"
    }
   ],
   "source": [
    "list(map(plus_one, number_list))"
   ]
  },
  {
   "cell_type": "code",
   "execution_count": 2,
   "metadata": {},
   "outputs": [],
   "source": [
    "# def remove_key(record, key):\n",
    "#     return record.pop(key, None)\n",
    "\n",
    "# res = filter(partial(remove_key, dict_result), arrays)"
   ]
  },
  {
   "cell_type": "code",
   "execution_count": 3,
   "metadata": {},
   "outputs": [],
   "source": [
    "# array_keys: list = [k for k, v in record.items() if (type(v) == list)]\n",
    "# arrays: dict = {k: v for k, v in flat_record.items() if k in vector_keys}\n",
    "# arrays: dict = reduce(dissoc, set(flats), record)\n",
    "# flats: dict = {k: v for k, v in flat_record.items() if k not in vector_keys}"
   ]
  },
  {
   "cell_type": "code",
   "execution_count": 4,
   "metadata": {},
   "outputs": [],
   "source": [
    "def put_prefix(previous_key):\n",
    "    if (previous_key == None):\n",
    "        prefix = ''\n",
    "    else:\n",
    "        prefix = f'{previous_key}_'\n",
    "    return prefix"
   ]
  },
  {
   "cell_type": "code",
   "execution_count": 5,
   "metadata": {},
   "outputs": [],
   "source": [
    "def replace_char(key_name, expression):\n",
    "    return re.sub(expression, '', key_name)\n",
    "\n",
    "\n",
    "def clean_key(key_name):\n",
    "    if (key_name == '_id_$oid'):\n",
    "        new_key = thread_first(\n",
    "            key_name, (replace_char, '^\\\\_'), (replace_char, '\\\\$')\n",
    "        )\n",
    "    elif ('$' in key_name):\n",
    "        new_key = thread_first(\n",
    "            key_name, (replace_char, '\\\\b\\\\$\\\\w+'), (replace_char, '_$')\n",
    "        )\n",
    "    else:\n",
    "        new_key = key_name\n",
    "    return new_key"
   ]
  },
  {
   "cell_type": "code",
   "execution_count": 6,
   "metadata": {},
   "outputs": [],
   "source": [
    "def unnest_data(prefix, key_value):\n",
    "    key = f'{put_prefix(prefix)}{key_value[0]}'\n",
    "    if (key_value[1] == None):\n",
    "        pass\n",
    "    elif (type(key_value[1]) == dict):\n",
    "        yield from mapcat(partial(unnest_data, key), key_value[1].items())\n",
    "    else:\n",
    "        new_key = clean_key(key)\n",
    "        value = key_value[1]\n",
    "        yield { new_key: value }"
   ]
  },
  {
   "cell_type": "code",
   "execution_count": 7,
   "metadata": {},
   "outputs": [],
   "source": [
    "def is_array(record):\n",
    "    if (type(record[1]) == list):\n",
    "        return record"
   ]
  },
  {
   "cell_type": "code",
   "execution_count": 8,
   "metadata": {},
   "outputs": [],
   "source": [
    "def process_record(json_record):\n",
    "    pairs = mapcat(partial(unnest_data, None), json_record.items())\n",
    "    record = reduce(lambda x, y: x | y, pairs)\n",
    "    arrays = dict(filter(is_array, record.items()))\n",
    "\n",
    "    if arrays.keys():\n",
    "        flats = reduce(dissoc, arrays.keys(), record)\n",
    "        exploded = [flats | {k: i} for k in arrays.keys() for i in arrays[k]]\n",
    "        yield from mapcat(process_record, exploded)\n",
    "    else:\n",
    "        yield record\n",
    "\n",
    "\n",
    "def call_processing(raw_record):\n",
    "    json_record = json.loads(raw_record)\n",
    "    return process_record(json_record)"
   ]
  },
  {
   "cell_type": "code",
   "execution_count": 9,
   "metadata": {},
   "outputs": [],
   "source": [
    "with open('example.json', 'r') as f:\n",
    "    raw_file = f.readlines()"
   ]
  },
  {
   "cell_type": "code",
   "execution_count": 10,
   "metadata": {},
   "outputs": [],
   "source": [
    "pairs = mapcat(partial(unnest_data, None), json.loads(raw_file[0]).items())"
   ]
  },
  {
   "cell_type": "code",
   "execution_count": 11,
   "metadata": {},
   "outputs": [],
   "source": [
    "record = reduce(lambda x, y: x | y, pairs)"
   ]
  },
  {
   "cell_type": "code",
   "execution_count": 12,
   "metadata": {},
   "outputs": [],
   "source": [
    "arrays = dict(filter(is_array, record.items()))"
   ]
  },
  {
   "cell_type": "code",
   "execution_count": 13,
   "metadata": {},
   "outputs": [],
   "source": [
    "flats = reduce(dissoc, arrays.keys(), record)"
   ]
  },
  {
   "cell_type": "code",
   "execution_count": 27,
   "metadata": {},
   "outputs": [
    {
     "name": "stdout",
     "output_type": "stream",
     "text": [
      "[{'id': 123, 'name': 'metamizole'}, {'id': 456, 'name': 'aspirin'}, {'id': 789, 'name': 'paracetamol'}, {'id': 101, 'name': 'ibuprofen'}]\n",
      "[{'name': 'pneumonia'}, {'name': 'fever'}, {'name': 'nausea'}]\n"
     ]
    }
   ],
   "source": [
    "for i in arrays.values():\n",
    "    print(i)"
   ]
  },
  {
   "cell_type": "code",
   "execution_count": 18,
   "metadata": {},
   "outputs": [],
   "source": [
    "exploded = [flats | {k: v} for k in arrays.keys() for v in arrays[k]]"
   ]
  },
  {
   "cell_type": "code",
   "execution_count": 19,
   "metadata": {},
   "outputs": [
    {
     "data": {
      "text/plain": [
       "[{'id_oid': 'abcd1234EFGH',\n",
       "  'hospital_id': 42,\n",
       "  'document_discharge_date': '2022-01-02',\n",
       "  'event_date': '2022-01-02',\n",
       "  'drugs': {'id': 123, 'name': 'metamizole'}},\n",
       " {'id_oid': 'abcd1234EFGH',\n",
       "  'hospital_id': 42,\n",
       "  'document_discharge_date': '2022-01-02',\n",
       "  'event_date': '2022-01-02',\n",
       "  'drugs': {'id': 456, 'name': 'aspirin'}},\n",
       " {'id_oid': 'abcd1234EFGH',\n",
       "  'hospital_id': 42,\n",
       "  'document_discharge_date': '2022-01-02',\n",
       "  'event_date': '2022-01-02',\n",
       "  'drugs': {'id': 789, 'name': 'paracetamol'}},\n",
       " {'id_oid': 'abcd1234EFGH',\n",
       "  'hospital_id': 42,\n",
       "  'document_discharge_date': '2022-01-02',\n",
       "  'event_date': '2022-01-02',\n",
       "  'drugs': {'id': 101, 'name': 'ibuprofen'}},\n",
       " {'id_oid': 'abcd1234EFGH',\n",
       "  'hospital_id': 42,\n",
       "  'document_discharge_date': '2022-01-02',\n",
       "  'event_date': '2022-01-02',\n",
       "  'conditions': {'name': 'pneumonia'}},\n",
       " {'id_oid': 'abcd1234EFGH',\n",
       "  'hospital_id': 42,\n",
       "  'document_discharge_date': '2022-01-02',\n",
       "  'event_date': '2022-01-02',\n",
       "  'conditions': {'name': 'fever'}},\n",
       " {'id_oid': 'abcd1234EFGH',\n",
       "  'hospital_id': 42,\n",
       "  'document_discharge_date': '2022-01-02',\n",
       "  'event_date': '2022-01-02',\n",
       "  'conditions': {'name': 'nausea'}}]"
      ]
     },
     "execution_count": 19,
     "metadata": {},
     "output_type": "execute_result"
    }
   ],
   "source": [
    "exploded"
   ]
  },
  {
   "cell_type": "code",
   "execution_count": 11,
   "metadata": {},
   "outputs": [],
   "source": [
    "result_iter = [call_processing(x) for x in raw_file]"
   ]
  },
  {
   "cell_type": "code",
   "execution_count": 12,
   "metadata": {},
   "outputs": [],
   "source": [
    "result_list = [y for x in result_iter for y in x]"
   ]
  },
  {
   "cell_type": "code",
   "execution_count": null,
   "metadata": {},
   "outputs": [],
   "source": [
    "with open('result.json', 'w') as f:\n",
    "    for element in result_list:\n",
    "        f.write(f'{json.dumps(element)}\\n')"
   ]
  },
  {
   "cell_type": "code",
   "execution_count": 1,
   "metadata": {},
   "outputs": [],
   "source": [
    "import polars as pl"
   ]
  },
  {
   "cell_type": "code",
   "execution_count": 3,
   "metadata": {},
   "outputs": [],
   "source": [
    "df = pl.read_parquet('../json_steamroller/c71c319904bd4195ac60615a0e011261.parquet')"
   ]
  },
  {
   "cell_type": "code",
   "execution_count": null,
   "metadata": {},
   "outputs": [],
   "source": [
    "df.filter(pl.col('atendimento_id').str.contains('48657422123'))"
   ]
  },
  {
   "cell_type": "code",
   "execution_count": 8,
   "metadata": {},
   "outputs": [],
   "source": [
    "dfnew = df.select(pl.col('*').cast(str))"
   ]
  },
  {
   "cell_type": "code",
   "execution_count": 10,
   "metadata": {},
   "outputs": [],
   "source": [
    "dfnew.write_parquet('result.parquet')"
   ]
  }
 ],
 "metadata": {
  "kernelspec": {
   "display_name": "json-steamroller-9psWnxvo-py3.11",
   "language": "python",
   "name": "python3"
  },
  "language_info": {
   "codemirror_mode": {
    "name": "ipython",
    "version": 3
   },
   "file_extension": ".py",
   "mimetype": "text/x-python",
   "name": "python",
   "nbconvert_exporter": "python",
   "pygments_lexer": "ipython3",
   "version": "3.11.1"
  },
  "orig_nbformat": 4,
  "vscode": {
   "interpreter": {
    "hash": "7f001c29b4822844938daced91e7a2671ee245e58ae6d625abb280006aef98f2"
   }
  }
 },
 "nbformat": 4,
 "nbformat_minor": 2
}
